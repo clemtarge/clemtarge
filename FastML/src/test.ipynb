{
 "cells": [
  {
   "cell_type": "code",
   "execution_count": 1,
   "id": "89c91674",
   "metadata": {},
   "outputs": [],
   "source": [
    "import numpy as np\n",
    "import pandas as pd\n",
    "import matplotlib.pyplot as plt\n",
    "\n",
    "from api import *\n",
    "\n",
    "from sklearn.ensemble import RandomForestRegressor, RandomForestClassifier\n",
    "from sklearn.svm import LinearSVC\n",
    "\n",
    "from sklearn.model_selection import train_test_split\n",
    "\n",
    "from sklearn.metrics import confusion_matrix, f1_score, recall_score, accuracy_score\n",
    "from sklearn.metrics import r2_score, mean_squared_error, explained_variance_score, matthews_corrcoef, mean_poisson_deviance\n",
    "\n",
    "from sklearn.datasets import load_diabetes, load_iris, load_breast_cancer, make_classification\n",
    "seed = 42"
   ]
  },
  {
   "cell_type": "code",
   "execution_count": 2,
   "id": "ff0ce3d9",
   "metadata": {},
   "outputs": [
    {
     "data": {
      "text/html": [
       "<div>\n",
       "<style scoped>\n",
       "    .dataframe tbody tr th:only-of-type {\n",
       "        vertical-align: middle;\n",
       "    }\n",
       "\n",
       "    .dataframe tbody tr th {\n",
       "        vertical-align: top;\n",
       "    }\n",
       "\n",
       "    .dataframe thead th {\n",
       "        text-align: right;\n",
       "    }\n",
       "</style>\n",
       "<table border=\"1\" class=\"dataframe\">\n",
       "  <thead>\n",
       "    <tr style=\"text-align: right;\">\n",
       "      <th></th>\n",
       "      <th>0</th>\n",
       "      <th>1</th>\n",
       "      <th>2</th>\n",
       "      <th>3</th>\n",
       "      <th>4</th>\n",
       "      <th>5</th>\n",
       "      <th>6</th>\n",
       "      <th>7</th>\n",
       "      <th>8</th>\n",
       "      <th>9</th>\n",
       "      <th>10</th>\n",
       "      <th>11</th>\n",
       "      <th>y</th>\n",
       "    </tr>\n",
       "  </thead>\n",
       "  <tbody>\n",
       "    <tr>\n",
       "      <th>0</th>\n",
       "      <td>-0.918660</td>\n",
       "      <td>-0.082161</td>\n",
       "      <td>-0.653849</td>\n",
       "      <td>-0.979538</td>\n",
       "      <td>1.178687</td>\n",
       "      <td>-0.626096</td>\n",
       "      <td>0.618033</td>\n",
       "      <td>0.954513</td>\n",
       "      <td>-2.370786</td>\n",
       "      <td>-2.627790</td>\n",
       "      <td>-1.108907</td>\n",
       "      <td>1.572361</td>\n",
       "      <td>7</td>\n",
       "    </tr>\n",
       "    <tr>\n",
       "      <th>1</th>\n",
       "      <td>1.448309</td>\n",
       "      <td>0.199428</td>\n",
       "      <td>-1.376482</td>\n",
       "      <td>0.231849</td>\n",
       "      <td>-1.335388</td>\n",
       "      <td>-1.012568</td>\n",
       "      <td>0.966440</td>\n",
       "      <td>0.569317</td>\n",
       "      <td>-1.447029</td>\n",
       "      <td>-2.404461</td>\n",
       "      <td>1.103360</td>\n",
       "      <td>0.268891</td>\n",
       "      <td>6</td>\n",
       "    </tr>\n",
       "    <tr>\n",
       "      <th>2</th>\n",
       "      <td>2.361881</td>\n",
       "      <td>-2.891510</td>\n",
       "      <td>-1.736681</td>\n",
       "      <td>0.515567</td>\n",
       "      <td>-1.409149</td>\n",
       "      <td>-2.251702</td>\n",
       "      <td>-0.370926</td>\n",
       "      <td>0.123696</td>\n",
       "      <td>0.988692</td>\n",
       "      <td>1.199970</td>\n",
       "      <td>0.603155</td>\n",
       "      <td>-0.997673</td>\n",
       "      <td>10</td>\n",
       "    </tr>\n",
       "    <tr>\n",
       "      <th>3</th>\n",
       "      <td>0.122061</td>\n",
       "      <td>-1.107675</td>\n",
       "      <td>-1.727396</td>\n",
       "      <td>-0.759729</td>\n",
       "      <td>-0.251201</td>\n",
       "      <td>-0.293074</td>\n",
       "      <td>-0.695081</td>\n",
       "      <td>0.518566</td>\n",
       "      <td>1.938410</td>\n",
       "      <td>-1.233243</td>\n",
       "      <td>1.359861</td>\n",
       "      <td>0.945521</td>\n",
       "      <td>13</td>\n",
       "    </tr>\n",
       "    <tr>\n",
       "      <th>4</th>\n",
       "      <td>1.501885</td>\n",
       "      <td>1.329352</td>\n",
       "      <td>1.833576</td>\n",
       "      <td>2.447849</td>\n",
       "      <td>-0.002988</td>\n",
       "      <td>-3.044294</td>\n",
       "      <td>0.130978</td>\n",
       "      <td>0.644095</td>\n",
       "      <td>-0.117049</td>\n",
       "      <td>-0.223991</td>\n",
       "      <td>-2.298251</td>\n",
       "      <td>0.189324</td>\n",
       "      <td>14</td>\n",
       "    </tr>\n",
       "    <tr>\n",
       "      <th>...</th>\n",
       "      <td>...</td>\n",
       "      <td>...</td>\n",
       "      <td>...</td>\n",
       "      <td>...</td>\n",
       "      <td>...</td>\n",
       "      <td>...</td>\n",
       "      <td>...</td>\n",
       "      <td>...</td>\n",
       "      <td>...</td>\n",
       "      <td>...</td>\n",
       "      <td>...</td>\n",
       "      <td>...</td>\n",
       "      <td>...</td>\n",
       "    </tr>\n",
       "    <tr>\n",
       "      <th>4995</th>\n",
       "      <td>-0.545474</td>\n",
       "      <td>2.307116</td>\n",
       "      <td>-0.406047</td>\n",
       "      <td>-1.586770</td>\n",
       "      <td>-0.484037</td>\n",
       "      <td>2.411071</td>\n",
       "      <td>-0.519299</td>\n",
       "      <td>-0.358613</td>\n",
       "      <td>-0.472059</td>\n",
       "      <td>-1.069692</td>\n",
       "      <td>0.273913</td>\n",
       "      <td>-1.121545</td>\n",
       "      <td>11</td>\n",
       "    </tr>\n",
       "    <tr>\n",
       "      <th>4996</th>\n",
       "      <td>1.727676</td>\n",
       "      <td>4.143605</td>\n",
       "      <td>0.305863</td>\n",
       "      <td>-0.592057</td>\n",
       "      <td>-2.889283</td>\n",
       "      <td>-1.274616</td>\n",
       "      <td>1.239854</td>\n",
       "      <td>0.457130</td>\n",
       "      <td>1.185690</td>\n",
       "      <td>-2.089014</td>\n",
       "      <td>-0.329989</td>\n",
       "      <td>-0.372223</td>\n",
       "      <td>6</td>\n",
       "    </tr>\n",
       "    <tr>\n",
       "      <th>4997</th>\n",
       "      <td>-3.453394</td>\n",
       "      <td>0.759012</td>\n",
       "      <td>0.383661</td>\n",
       "      <td>-3.467573</td>\n",
       "      <td>-1.113330</td>\n",
       "      <td>-0.077158</td>\n",
       "      <td>-0.726390</td>\n",
       "      <td>-0.607461</td>\n",
       "      <td>-1.738802</td>\n",
       "      <td>-2.900932</td>\n",
       "      <td>2.637008</td>\n",
       "      <td>0.382161</td>\n",
       "      <td>1</td>\n",
       "    </tr>\n",
       "    <tr>\n",
       "      <th>4998</th>\n",
       "      <td>-1.422552</td>\n",
       "      <td>2.206286</td>\n",
       "      <td>2.693337</td>\n",
       "      <td>-1.351808</td>\n",
       "      <td>-0.216322</td>\n",
       "      <td>0.216985</td>\n",
       "      <td>-1.622808</td>\n",
       "      <td>-0.078710</td>\n",
       "      <td>2.078305</td>\n",
       "      <td>2.750944</td>\n",
       "      <td>-2.150097</td>\n",
       "      <td>-0.120885</td>\n",
       "      <td>3</td>\n",
       "    </tr>\n",
       "    <tr>\n",
       "      <th>4999</th>\n",
       "      <td>-0.559256</td>\n",
       "      <td>-0.272298</td>\n",
       "      <td>0.569097</td>\n",
       "      <td>2.348607</td>\n",
       "      <td>0.783199</td>\n",
       "      <td>0.778782</td>\n",
       "      <td>0.096056</td>\n",
       "      <td>-1.673244</td>\n",
       "      <td>-1.541674</td>\n",
       "      <td>-1.358143</td>\n",
       "      <td>2.472760</td>\n",
       "      <td>0.030175</td>\n",
       "      <td>1</td>\n",
       "    </tr>\n",
       "  </tbody>\n",
       "</table>\n",
       "<p>5000 rows × 13 columns</p>\n",
       "</div>"
      ],
      "text/plain": [
       "             0         1         2         3         4         5         6  \\\n",
       "0    -0.918660 -0.082161 -0.653849 -0.979538  1.178687 -0.626096  0.618033   \n",
       "1     1.448309  0.199428 -1.376482  0.231849 -1.335388 -1.012568  0.966440   \n",
       "2     2.361881 -2.891510 -1.736681  0.515567 -1.409149 -2.251702 -0.370926   \n",
       "3     0.122061 -1.107675 -1.727396 -0.759729 -0.251201 -0.293074 -0.695081   \n",
       "4     1.501885  1.329352  1.833576  2.447849 -0.002988 -3.044294  0.130978   \n",
       "...        ...       ...       ...       ...       ...       ...       ...   \n",
       "4995 -0.545474  2.307116 -0.406047 -1.586770 -0.484037  2.411071 -0.519299   \n",
       "4996  1.727676  4.143605  0.305863 -0.592057 -2.889283 -1.274616  1.239854   \n",
       "4997 -3.453394  0.759012  0.383661 -3.467573 -1.113330 -0.077158 -0.726390   \n",
       "4998 -1.422552  2.206286  2.693337 -1.351808 -0.216322  0.216985 -1.622808   \n",
       "4999 -0.559256 -0.272298  0.569097  2.348607  0.783199  0.778782  0.096056   \n",
       "\n",
       "             7         8         9        10        11   y  \n",
       "0     0.954513 -2.370786 -2.627790 -1.108907  1.572361   7  \n",
       "1     0.569317 -1.447029 -2.404461  1.103360  0.268891   6  \n",
       "2     0.123696  0.988692  1.199970  0.603155 -0.997673  10  \n",
       "3     0.518566  1.938410 -1.233243  1.359861  0.945521  13  \n",
       "4     0.644095 -0.117049 -0.223991 -2.298251  0.189324  14  \n",
       "...        ...       ...       ...       ...       ...  ..  \n",
       "4995 -0.358613 -0.472059 -1.069692  0.273913 -1.121545  11  \n",
       "4996  0.457130  1.185690 -2.089014 -0.329989 -0.372223   6  \n",
       "4997 -0.607461 -1.738802 -2.900932  2.637008  0.382161   1  \n",
       "4998 -0.078710  2.078305  2.750944 -2.150097 -0.120885   3  \n",
       "4999 -1.673244 -1.541674 -1.358143  2.472760  0.030175   1  \n",
       "\n",
       "[5000 rows x 13 columns]"
      ]
     },
     "execution_count": 2,
     "metadata": {},
     "output_type": "execute_result"
    }
   ],
   "source": [
    "# data = load_diabetes()\n",
    "# data = load_iris()\n",
    "# data = load_breast_cancer()\n",
    "\n",
    "# X, y = data.data, data.target\n",
    "X, y = make_classification(5000, 12, n_classes=15, n_informative=7)\n",
    "df = pd.concat([pd.DataFrame(X), pd.DataFrame(y, columns=['y'])], axis=1);df"
   ]
  },
  {
   "cell_type": "code",
   "execution_count": 3,
   "id": "45dfd812",
   "metadata": {},
   "outputs": [],
   "source": [
    "inputs = list(range(X.shape[1]))[:7]\n",
    "outputs = 'y'\n",
    "\n",
    "# inputs = ['VPVS_RATIO', 'P_IMPEDANCE']\n",
    "# outputs = 'PHI'"
   ]
  },
  {
   "cell_type": "code",
   "execution_count": 4,
   "id": "beaad818",
   "metadata": {
    "scrolled": true
   },
   "outputs": [
    {
     "name": "stdout",
     "output_type": "stream",
     "text": [
      "             0         1         2         3         4         5         6\n",
      "1840  0.251787  1.753262  1.314703 -1.036215 -2.037038 -3.674518 -1.057310\n",
      "2115 -0.520943 -3.202900  0.956039  1.725136  1.108473 -1.136925 -0.977584\n",
      "4437 -2.334360 -2.283665 -0.163717 -1.915885  1.380630 -1.219637 -0.767814\n",
      "1146 -1.849761 -0.788928  1.675223 -1.238923  0.197454  1.170269 -0.472781\n",
      "2486  2.412182 -0.212410  0.315392  2.856499 -1.680591  0.340457  1.260335\n",
      "...        ...       ...       ...       ...       ...       ...       ...\n",
      "4426 -0.097578 -8.009937 -0.577866  0.773479  1.265845 -4.953428 -0.023725\n",
      "466  -2.195094  1.695649  0.413231 -2.308929 -0.693354 -1.120799 -0.607814\n",
      "3092  0.073929  0.644510  0.230108 -1.192003 -0.080563 -1.588433 -0.689048\n",
      "3772  0.450120  3.089930  1.685715  0.901111  0.089350 -1.205892  0.833856\n",
      "860   1.070230  1.088540 -1.208034 -1.330935 -1.133651  3.425481 -2.022715\n",
      "\n",
      "[3500 rows x 7 columns]\n",
      "1501    13\n",
      "2586     7\n",
      "2653     0\n",
      "1055     0\n",
      "705     11\n",
      "        ..\n",
      "3563    14\n",
      "1538    12\n",
      "1837    12\n",
      "2380     0\n",
      "1912     9\n",
      "Name: y, Length: 1500, dtype: int64\n"
     ]
    }
   ],
   "source": [
    "# X_train, X_test, y_train, y_test = getData(inputs, outputs, 'libra_l7_nw7_744_vsd_ml_bis.txt', 0.20, seed)\n",
    "X_train, X_test, y_train, y_test = getData(inputs, outputs, df, 0.30, seed)\n",
    "print(X_train)\n",
    "print(y_test)"
   ]
  },
  {
   "cell_type": "markdown",
   "id": "494bf67c",
   "metadata": {},
   "source": [
    "## Création modèle + entrainement"
   ]
  },
  {
   "cell_type": "code",
   "execution_count": 5,
   "id": "8992e80b",
   "metadata": {},
   "outputs": [],
   "source": [
    "parameters={'random_state': 42, 'n_jobs': -1, 'n_estimators': 30, 'min_weight_fraction_leaf': 0.0, 'min_samples_split': 5, \n",
    " 'min_samples_leaf': 8, 'max_depth': 7, 'criterion': 'entropy'}\n",
    "\n",
    "parameters=dict(zip(['n_estimators', 'min_samples_split', 'min_weight_fraction_leaf', 'random_state'], \n",
    "                    [40, 4, 0.2641977699019971, 42]))"
   ]
  },
  {
   "cell_type": "code",
   "execution_count": 6,
   "id": "1a711cc7",
   "metadata": {},
   "outputs": [],
   "source": [
    "# model = Model(RandomForestRegressor, X_train, X_test, y_train, y_test, parameters={'random_state': seed})\n",
    "model = Model(RandomForestClassifier, X_train, X_test, y_train, y_test, parameters={'random_state': seed})\n",
    "# model = Model(RandomForestClassifier, X_train, X_test, y_train, y_test, parameters=parameters)\n",
    "# model = Model(LinearSVC, X_train, X_test, y_train, y_test, parameters={'max_iter': 5000})"
   ]
  },
  {
   "cell_type": "code",
   "execution_count": 7,
   "id": "945d96e9",
   "metadata": {},
   "outputs": [],
   "source": [
    "model.fit()"
   ]
  },
  {
   "cell_type": "code",
   "execution_count": 8,
   "id": "e2e12e3b",
   "metadata": {
    "scrolled": true
   },
   "outputs": [],
   "source": [
    "model.predict({accuracy_score: {}, confusion_matrix: {}})#, recall_score: {'average': 'macro'}})\n",
    "# model.predict(metrics={r2_score: {}, mean_squared_error: {}, explained_variance_score: {}})"
   ]
  },
  {
   "cell_type": "markdown",
   "id": "f18c1d87",
   "metadata": {},
   "source": [
    "## Inférence"
   ]
  },
  {
   "cell_type": "code",
   "execution_count": 9,
   "id": "9afb35e7",
   "metadata": {},
   "outputs": [],
   "source": [
    "X_pred = X_test.iloc[:50,:]"
   ]
  },
  {
   "cell_type": "code",
   "execution_count": 10,
   "id": "6b12a07b",
   "metadata": {},
   "outputs": [],
   "source": [
    "prediction(model.name, X_pred=X_pred)"
   ]
  },
  {
   "cell_type": "markdown",
   "id": "6cdf22d7",
   "metadata": {},
   "source": [
    "## Opti Bayes"
   ]
  },
  {
   "cell_type": "code",
   "execution_count": 12,
   "id": "ee5165fd",
   "metadata": {},
   "outputs": [
    {
     "name": "stdout",
     "output_type": "stream",
     "text": [
      "Iteration No: 1 started. Evaluating function at random point.\n",
      "Iteration No: 1 ended. Evaluation done at random point.\n",
      "Time taken: 0.1485\n",
      "Function value obtained: -0.2147\n",
      "Current minimum: -0.2147\n",
      "Iteration No: 2 started. Evaluating function at random point.\n",
      "Iteration No: 2 ended. Evaluation done at random point.\n",
      "Time taken: 0.0727\n",
      "Function value obtained: -0.2967\n",
      "Current minimum: -0.2967\n",
      "Iteration No: 3 started. Evaluating function at random point.\n",
      "Iteration No: 3 ended. Evaluation done at random point.\n",
      "Time taken: 1.8600\n",
      "Function value obtained: -0.1907\n",
      "Current minimum: -0.2967\n",
      "Iteration No: 4 started. Searching for the next optimal point.\n",
      "Iteration No: 4 ended. Search finished for the next optimal point.\n",
      "Time taken: 2.0490\n",
      "Function value obtained: -0.3207\n",
      "Current minimum: -0.3207\n",
      "Iteration No: 5 started. Searching for the next optimal point.\n",
      "Iteration No: 5 ended. Search finished for the next optimal point.\n",
      "Time taken: 2.2069\n",
      "Function value obtained: -0.3107\n",
      "Current minimum: -0.3207\n",
      "Iteration No: 6 started. Searching for the next optimal point.\n",
      "Iteration No: 6 ended. Search finished for the next optimal point.\n",
      "Time taken: 1.9946\n",
      "Function value obtained: -0.3413\n",
      "Current minimum: -0.3413\n",
      "Iteration No: 7 started. Searching for the next optimal point.\n",
      "Iteration No: 7 ended. Search finished for the next optimal point.\n",
      "Time taken: 0.8990\n",
      "Function value obtained: -0.3487\n",
      "Current minimum: -0.3487\n",
      "Iteration No: 8 started. Searching for the next optimal point.\n",
      "Iteration No: 8 ended. Search finished for the next optimal point.\n",
      "Time taken: 0.7710\n",
      "Function value obtained: -0.2560\n",
      "Current minimum: -0.3487\n",
      "Iteration No: 9 started. Searching for the next optimal point.\n",
      "Iteration No: 9 ended. Search finished for the next optimal point.\n",
      "Time taken: 0.5567\n",
      "Function value obtained: -0.1673\n",
      "Current minimum: -0.3487\n",
      "Iteration No: 10 started. Searching for the next optimal point.\n",
      "Iteration No: 10 ended. Search finished for the next optimal point.\n",
      "Time taken: 0.9185\n",
      "Function value obtained: -0.3473\n",
      "Current minimum: -0.3487\n",
      "Duration of optimization: 11.88767 s\n",
      "best score: 0.3486666666666667\n",
      "best parameters found: [40, 2, 0.0, 42]\n"
     ]
    },
    {
     "data": {
      "text/plain": [
       "([40, 2, 0.0, 42], 0.3486666666666667, 11.88767)"
      ]
     },
     "execution_count": 12,
     "metadata": {},
     "output_type": "execute_result"
    },
    {
     "data": {
      "image/png": "[encoded data removed]",
      "text/plain": [
       "<Figure size 432x288 with 1 Axes>"
      ]
     },
     "metadata": {
      "needs_background": "light"
     },
     "output_type": "display_data"
    }
   ],
   "source": [
    "parameters = {'n_estimators': [10, 20, 30, 40], 'min_samples_split': [2,4,6,8,10], \n",
    "              'min_weight_fraction_leaf': (0., 0.5), 'random_state': [seed], }  # rf\n",
    "\n",
    "# parameters = {'penalty': ['l1', 'l2'], 'C': (0.01, 3), 'intercept_scaling': (0.2, 2), \n",
    "#               'max_iter': [5000], 'random_state': [seed], 'dual': [False]}  # svm\n",
    "\n",
    "# model.optimize(parameters_range=parameters, n_lhs=5, n_calls=10, metric={r2_score: {}}, min_or_max='max', refit=True)\n",
    "model.optimize(parameters_range=parameters, n_lhs=3, n_calls=10, metric={accuracy_score: {}}, min_or_max='max', \n",
    "               refit=True, plot_cvg=True)"
   ]
  },
  {
   "cell_type": "markdown",
   "id": "4634eb84",
   "metadata": {},
   "source": [
    "# RandomSearch vs LHS"
   ]
  },
  {
   "cell_type": "code",
   "execution_count": null,
   "id": "5c4e3d1d",
   "metadata": {},
   "outputs": [],
   "source": [
    "# assert(False)"
   ]
  },
  {
   "cell_type": "markdown",
   "id": "cb733ab3",
   "metadata": {},
   "source": [
    "``` python\n",
    "parameters = {'n_estimators': list(range(10, 71, 20)), 'criterion': ['poisson'] or ['gini', 'entropy'], \n",
    "              'max_depth': [None] + list(range(1, 15, 1)), 'min_samples_split': list(range(2, 11, 1)), \n",
    "              'min_samples_leaf': list(range(1, 11, 1)), 'min_weight_fraction_leaf': list(np.linspace(0., 0.5, 10)), \n",
    "              'random_state': [seed], 'n_jobs': [-1]}  # rf\n",
    "```\n",
    "54000 combinaisons  \n",
    "30 pts choisis  \n",
    "100 répétitions\n",
    "\n",
    "#### RandomizedSearchCV vs LHS :  \n",
    "**Regression**  \n",
    "*Temps moyens :*   \n",
    "np.mean(times_rscv) = 1.127 s  \n",
    "np.mean(times_lhs) = 9.966 s  \n",
    "np.mean(times_gp) = 11.012 s\n",
    "\n",
    "*Scores moyens (r2) :*  \n",
    "np.mean(best_scores_rscv) = 0.415  \n",
    "np.mean(best_scores_lhs) = 0.435  \n",
    "np.mean(best_scores_gp) = 0.460\n",
    "\n",
    "**Classification**  \n",
    "*Temps moyens :*   \n",
    "np.mean(times_rscv) =  \n",
    "np.mean(times_lhs) =  \n",
    "np.mean(times_gp) =  \n",
    "\n",
    "*Scores moyens :*  \n",
    "np.mean(best_scores_rscv) =  \n",
    "np.mean(best_scores_lhs) =  \n",
    "np.mean(best_scores_gp) =  "
   ]
  },
  {
   "cell_type": "code",
   "execution_count": 79,
   "id": "b20cc64c",
   "metadata": {},
   "outputs": [],
   "source": [
    "from sklearn.model_selection import RandomizedSearchCV\n",
    "from time import time\n",
    "from sklearn.metrics import make_scorer\n",
    "\n",
    "# import warnings\n",
    "# warnings.filterwarnings('ignore')"
   ]
  },
  {
   "cell_type": "code",
   "execution_count": 87,
   "id": "e8e3b9bb",
   "metadata": {},
   "outputs": [],
   "source": [
    "# 4*2*15*9*10*10*1*1 = 108000\n",
    "parameters = {'n_estimators': list(range(10, 71, 20)), 'criterion': ['gini', 'entropy'], \n",
    "              'max_depth': [None] + list(range(1, 15, 1)), 'min_samples_split': list(range(2, 11, 1)), \n",
    "              'min_samples_leaf': list(range(1, 11, 1)), 'min_weight_fraction_leaf': list(np.linspace(0., 0.5, 10)), \n",
    "              'random_state': [seed], 'n_jobs': [-1]}  # rf"
   ]
  },
  {
   "cell_type": "code",
   "execution_count": 88,
   "id": "ca1ec7ac",
   "metadata": {},
   "outputs": [
    {
     "name": "stderr",
     "output_type": "stream",
     "text": [
      "/data/appli_PITSI/users/targe/miniconda3/envs/dev/lib/python3.7/site-packages/skopt/optimizer/optimizer.py:449: UserWarning: The objective has been evaluated at this point before.\n",
      "  warnings.warn(\"The objective has been evaluated \"\n",
      "/data/appli_PITSI/users/targe/miniconda3/envs/dev/lib/python3.7/site-packages/skopt/optimizer/optimizer.py:449: UserWarning: The objective has been evaluated at this point before.\n",
      "  warnings.warn(\"The objective has been evaluated \"\n"
     ]
    },
    {
     "name": "stdout",
     "output_type": "stream",
     "text": [
      "CPU times: user 36min 46s, sys: 3min 53s, total: 40min 40s\n",
      "Wall time: 15min 44s\n"
     ]
    }
   ],
   "source": [
    "%%time\n",
    "n_pts = 20\n",
    "n_exp = 30\n",
    "best_scores_rscv = []\n",
    "best_scores_lhs = []\n",
    "best_scores_gp = []\n",
    "times_rscv = []\n",
    "times_lhs = []\n",
    "times_gp = []\n",
    "\n",
    "# rf = RandomForestRegressor()\n",
    "rf = RandomForestClassifier()\n",
    "for i in range (n_exp):\n",
    "    # RandomizedSearchCV\n",
    "    clf = RandomizedSearchCV(estimator=rf, param_distributions=parameters, cv=2, n_jobs=-1, \n",
    "                             n_iter=n_pts, scoring=make_scorer(accuracy_score))\n",
    "    t0 = time()\n",
    "    search = clf.fit(X, y)\n",
    "    times_rscv.append(time() - t0)\n",
    "    best_scores_rscv.append(pd.DataFrame(search.cv_results_['mean_test_score']).max()[0])\n",
    "#     print(search.best_params_)\n",
    "\n",
    "    # LHS\n",
    "    model = Model(RandomForestClassifier, X_train, X_test, y_train, y_test)\n",
    "    _, best_score_lhs, time_lhs = model.optimize(parameters_range=parameters, n_lhs=n_pts, n_calls=n_pts, \n",
    "                                   metric={accuracy_score: {}}, min_or_max='max', verbose=False, write=False)\n",
    "    times_lhs.append(time_lhs)\n",
    "    best_scores_lhs.append(best_score_lhs)\n",
    "    \n",
    "    # gp_minimize + EGO\n",
    "    model = Model(RandomForestClassifier, X_train, X_test, y_train, y_test)\n",
    "    _, best_score_gp, time_gp = model.optimize(parameters_range=parameters, n_lhs=(n_pts//2), n_calls=n_pts, \n",
    "                                       metric={accuracy_score: {}}, min_or_max='max', verbose=False, write=False)\n",
    "    times_gp.append(time_gp)\n",
    "    best_scores_gp.append(best_score_gp)"
   ]
  },
  {
   "cell_type": "code",
   "execution_count": 89,
   "id": "4d90bfef",
   "metadata": {
    "scrolled": true
   },
   "outputs": [],
   "source": [
    "# pd.DataFrame(search.cv_results_)"
   ]
  },
  {
   "cell_type": "code",
   "execution_count": 90,
   "id": "0a6bd333",
   "metadata": {},
   "outputs": [
    {
     "data": {
      "image/png": "[encoded data removed]",
      "text/plain": [
       "<Figure size 432x288 with 1 Axes>"
      ]
     },
     "metadata": {
      "needs_background": "light"
     },
     "output_type": "display_data"
    }
   ],
   "source": [
    "plt.plot(times_rscv)\n",
    "plt.plot(times_lhs)\n",
    "plt.plot(times_gp)\n",
    "plt.title('Time')\n",
    "plt.legend(['RSCV', 'LHS', 'GP']);"
   ]
  },
  {
   "cell_type": "code",
   "execution_count": 91,
   "id": "3c121ccd",
   "metadata": {},
   "outputs": [
    {
     "data": {
      "image/png": "[encoded data removed]",
      "text/plain": [
       "<Figure size 432x288 with 1 Axes>"
      ]
     },
     "metadata": {
      "needs_background": "light"
     },
     "output_type": "display_data"
    }
   ],
   "source": [
    "plt.plot(best_scores_rscv)\n",
    "plt.plot(best_scores_lhs)\n",
    "plt.plot(best_scores_gp)\n",
    "plt.title('Score')\n",
    "plt.legend(['RSCV', 'LHS', 'GP']);"
   ]
  }
 ],
 "metadata": {
  "kernelspec": {
   "display_name": "Python 3",
   "language": "python",
   "name": "python3"
  },
  "language_info": {
   "codemirror_mode": {
    "name": "ipython",
    "version": 3
   },
   "file_extension": ".py",
   "mimetype": "text/x-python",
   "name": "python",
   "nbconvert_exporter": "python",
   "pygments_lexer": "ipython3",
   "version": "3.7.7"
  }
 },
 "nbformat": 4,
 "nbformat_minor": 5
}
