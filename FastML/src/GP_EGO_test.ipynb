{
 "cells": [
  {
   "cell_type": "code",
   "execution_count": 194,
   "id": "b1375a57",
   "metadata": {},
   "outputs": [],
   "source": [
    "import matplotlib.pyplot as plt\n",
    "import numpy as np\n",
    "import pandas as pd\n",
    "\n",
    "from skopt import gp_minimize\n",
    "from skopt.plots import plot_convergence, plot_gaussian_process\n",
    "from scratch3 import *\n",
    "\n",
    "from sklearn.datasets import load_diabetes\n",
    "from sklearn.ensemble import RandomForestRegressor\n",
    "from sklearn.metrics import r2_score\n",
    "\n",
    "seed = 42\n",
    "data = load_diabetes()\n",
    "X, y = data.data, data.target\n",
    "df = pd.concat([pd.DataFrame(X), pd.DataFrame(y, columns=['y'])], axis=1);df\n",
    "\n",
    "X_train, X_test, y_train, y_test = getData(list(range(X.shape[1])), 'y', df, 0.15, seed)\n",
    "\n",
    "def f(param) -> float:\n",
    "    dico = dict(zip(list(parameters.keys()), param))\n",
    "    print(dico)\n",
    "    model = Model(RandomForestRegressor, X_train, X_test, y_train, y_test, parameters=dico)\n",
    "    model.process({r2_score: {}}, save=False, write=False)\n",
    "    print(-model.metrics['r2_score'])\n",
    "    return -model.metrics['r2_score']"
   ]
  },
  {
   "cell_type": "code",
   "execution_count": 184,
   "id": "b9bf258b",
   "metadata": {},
   "outputs": [],
   "source": [
    "# parameters = {'n_estimators': [10, 20, 30, 40], 'min_samples_split': (2,4,6,8,10), \n",
    "#               'min_weight_fraction_leaf': (0., 0.5), 'random_state': [seed], }  # rf\n",
    "parameters = {'n_estimators': (10, 20, 30, 40), 'min_samples_split': (2,10), 'min_weight_fraction_leaf': (0., 0.5)}  # rf\n",
    "# f(param={'random_state': seed})"
   ]
  },
  {
   "cell_type": "code",
   "execution_count": 193,
   "id": "1d2c6868",
   "metadata": {},
   "outputs": [
    {
     "name": "stdout",
     "output_type": "stream",
     "text": [
      "{'n_estimators': 40, 'min_samples_split': 3, 'min_weight_fraction_leaf': 0.2801194218935398}\n",
      "-0.3492390032883602\n",
      "{'n_estimators': 10, 'min_samples_split': 6, 'min_weight_fraction_leaf': 0.4103905931476031}\n",
      "-0.36716886918900427\n",
      "{'n_estimators': 30, 'min_samples_split': 10, 'min_weight_fraction_leaf': 0.04366416299189189}\n",
      "-0.4725186844419559\n",
      "{'n_estimators': 20, 'min_samples_split': 8, 'min_weight_fraction_leaf': 0.0}\n",
      "-0.4547218991279771\n",
      "{'n_estimators': 10, 'min_samples_split': 10, 'min_weight_fraction_leaf': 0.0}\n",
      "-0.44768522329314575\n",
      "{'n_estimators': 40, 'min_samples_split': 3, 'min_weight_fraction_leaf': 0.0966269409268986}\n",
      "-0.4665051578827928\n",
      "{'n_estimators': 40, 'min_samples_split': 2, 'min_weight_fraction_leaf': 0.045899492264405435}\n",
      "-0.46692523658272467\n",
      "{'n_estimators': 40, 'min_samples_split': 8, 'min_weight_fraction_leaf': 0.5}\n",
      "0.007759358836638031\n",
      "{'n_estimators': 10, 'min_samples_split': 10, 'min_weight_fraction_leaf': 0.16719481264277902}\n",
      "-0.40823564836410153\n",
      "{'n_estimators': 30, 'min_samples_split': 2, 'min_weight_fraction_leaf': 0.1226153732996033}\n",
      "-0.4319857871083077\n"
     ]
    }
   ],
   "source": [
    "res = gp_minimize(f,                  # the function to minimize\n",
    "#                   [(-2.0, 2.0)],      # the bounds on each dimension of x\n",
    "                  list(parameters.values()),      # the bounds on each dimension of x\n",
    "                  acq_func=\"EI\",      # the acquisition function\n",
    "                  n_calls=10,         # the number of evaluations of f\n",
    "                  n_random_starts=3,  # the number of random initialization points\n",
    "                  random_state=1234,   # the random seed\n",
    "                  initial_point_generator='lhs', n_jobs=-1)"
   ]
  },
  {
   "cell_type": "code",
   "execution_count": 190,
   "id": "973cffa7",
   "metadata": {},
   "outputs": [
    {
     "name": "stdout",
     "output_type": "stream",
     "text": [
      "[-0.34808525 -0.30455937 -0.4804852  -0.32892633  0.00468199 -0.47459087\n",
      " -0.35598077 -0.43631139 -0.43187178 -0.39704074]\n",
      "[30, 10, 0.04366416299189189]\n"
     ]
    }
   ],
   "source": [
    "print(res.func_vals)\n",
    "print(res.x)"
   ]
  },
  {
   "cell_type": "code",
   "execution_count": 187,
   "id": "9063dba0",
   "metadata": {},
   "outputs": [
    {
     "data": {
      "image/png": "[encoded data removed]",
      "text/plain": [
       "<Figure size 432x288 with 1 Axes>"
      ]
     },
     "metadata": {
      "needs_background": "light"
     },
     "output_type": "display_data"
    }
   ],
   "source": [
    "plot_convergence(res);"
   ]
  },
  {
   "cell_type": "code",
   "execution_count": 189,
   "id": "c9056464",
   "metadata": {},
   "outputs": [
    {
     "data": {
      "image/png": "[encoded data removed]",
      "text/plain": [
       "<Figure size 432x288 with 1 Axes>"
      ]
     },
     "metadata": {
      "needs_background": "light"
     },
     "output_type": "display_data"
    }
   ],
   "source": [
    "# plt.scatter(np.array(res.x_iters)[:,1], res.func_vals);\n",
    "plt.plot(res.func_vals);"
   ]
  },
  {
   "cell_type": "code",
   "execution_count": 160,
   "id": "8f330320",
   "metadata": {},
   "outputs": [
    {
     "ename": "AssertionError",
     "evalue": "Space dimension must be 1",
     "output_type": "error",
     "traceback": [
      "\u001b[0;31m---------------------------------------------------------------------------\u001b[0m",
      "\u001b[0;31mAssertionError\u001b[0m                            Traceback (most recent call last)",
      "\u001b[0;32m<ipython-input-160-2368a91a5791>\u001b[0m in \u001b[0;36m<module>\u001b[0;34m\u001b[0m\n\u001b[1;32m     13\u001b[0m                                \u001b[0mnoise_level\u001b[0m\u001b[0;34m=\u001b[0m\u001b[0;36m0\u001b[0m\u001b[0;34m,\u001b[0m\u001b[0;34m\u001b[0m\u001b[0;34m\u001b[0m\u001b[0m\n\u001b[1;32m     14\u001b[0m                                \u001b[0mshow_legend\u001b[0m\u001b[0;34m=\u001b[0m\u001b[0mshow_legend\u001b[0m\u001b[0;34m,\u001b[0m \u001b[0mshow_title\u001b[0m\u001b[0;34m=\u001b[0m\u001b[0;32mFalse\u001b[0m\u001b[0;34m,\u001b[0m\u001b[0;34m\u001b[0m\u001b[0;34m\u001b[0m\u001b[0m\n\u001b[0;32m---> 15\u001b[0;31m                                show_next_point=False, show_acq_func=False)\n\u001b[0m\u001b[1;32m     16\u001b[0m     \u001b[0max\u001b[0m\u001b[0;34m.\u001b[0m\u001b[0mset_ylabel\u001b[0m\u001b[0;34m(\u001b[0m\u001b[0;34m\"\"\u001b[0m\u001b[0;34m)\u001b[0m\u001b[0;34m\u001b[0m\u001b[0;34m\u001b[0m\u001b[0m\n\u001b[1;32m     17\u001b[0m     \u001b[0max\u001b[0m\u001b[0;34m.\u001b[0m\u001b[0mset_xlabel\u001b[0m\u001b[0;34m(\u001b[0m\u001b[0;34m\"\"\u001b[0m\u001b[0;34m)\u001b[0m\u001b[0;34m\u001b[0m\u001b[0;34m\u001b[0m\u001b[0m\n",
      "\u001b[0;32m/data/appli_PITSI/users/targe/miniconda3/envs/dev/lib/python3.7/site-packages/skopt/plots.py\u001b[0m in \u001b[0;36mplot_gaussian_process\u001b[0;34m(res, **kwargs)\u001b[0m\n\u001b[1;32m    170\u001b[0m         \u001b[0max\u001b[0m \u001b[0;34m=\u001b[0m \u001b[0mplt\u001b[0m\u001b[0;34m.\u001b[0m\u001b[0mgca\u001b[0m\u001b[0;34m(\u001b[0m\u001b[0;34m)\u001b[0m\u001b[0;34m\u001b[0m\u001b[0;34m\u001b[0m\u001b[0m\n\u001b[1;32m    171\u001b[0m     \u001b[0mn_dims\u001b[0m \u001b[0;34m=\u001b[0m \u001b[0mres\u001b[0m\u001b[0;34m.\u001b[0m\u001b[0mspace\u001b[0m\u001b[0;34m.\u001b[0m\u001b[0mn_dims\u001b[0m\u001b[0;34m\u001b[0m\u001b[0;34m\u001b[0m\u001b[0m\n\u001b[0;32m--> 172\u001b[0;31m     \u001b[0;32massert\u001b[0m \u001b[0mn_dims\u001b[0m \u001b[0;34m==\u001b[0m \u001b[0;36m1\u001b[0m\u001b[0;34m,\u001b[0m \u001b[0;34m\"Space dimension must be 1\"\u001b[0m\u001b[0;34m\u001b[0m\u001b[0;34m\u001b[0m\u001b[0m\n\u001b[0m\u001b[1;32m    173\u001b[0m     \u001b[0mdimension\u001b[0m \u001b[0;34m=\u001b[0m \u001b[0mres\u001b[0m\u001b[0;34m.\u001b[0m\u001b[0mspace\u001b[0m\u001b[0;34m.\u001b[0m\u001b[0mdimensions\u001b[0m\u001b[0;34m[\u001b[0m\u001b[0;36m0\u001b[0m\u001b[0;34m]\u001b[0m\u001b[0;34m\u001b[0m\u001b[0;34m\u001b[0m\u001b[0m\n\u001b[1;32m    174\u001b[0m     \u001b[0mx\u001b[0m\u001b[0;34m,\u001b[0m \u001b[0mx_model\u001b[0m \u001b[0;34m=\u001b[0m \u001b[0m_evenly_sample\u001b[0m\u001b[0;34m(\u001b[0m\u001b[0mdimension\u001b[0m\u001b[0;34m,\u001b[0m \u001b[0mn_points\u001b[0m\u001b[0;34m)\u001b[0m\u001b[0;34m\u001b[0m\u001b[0;34m\u001b[0m\u001b[0m\n",
      "\u001b[0;31mAssertionError\u001b[0m: Space dimension must be 1"
     ]
    },
    {
     "data": {
      "image/png": "[encoded data removed]",
      "text/plain": [
       "<Figure size 1080x1080 with 1 Axes>"
      ]
     },
     "metadata": {
      "needs_background": "light"
     },
     "output_type": "display_data"
    }
   ],
   "source": [
    "plt.figure(figsize=(15,15))\n",
    "for n_iter in range(5):\n",
    "    # Plot true function.\n",
    "    plt.subplot(5, 2, 2*n_iter+1)\n",
    "\n",
    "    if n_iter == 0:\n",
    "        show_legend = True\n",
    "    else:\n",
    "        show_legend = False\n",
    "\n",
    "    ax = plot_gaussian_process(res, n_calls=n_iter,\n",
    "                               objective=f,\n",
    "                               noise_level=0,\n",
    "                               show_legend=show_legend, show_title=False,\n",
    "                               show_next_point=False, show_acq_func=False)\n",
    "    ax.set_ylabel(\"\")\n",
    "    ax.set_xlabel(\"\")\n",
    "    # Plot EI(x)\n",
    "    plt.subplot(5, 2, 2*n_iter+2)\n",
    "    ax = plot_gaussian_process(res, n_calls=n_iter,\n",
    "                               show_legend=show_legend, show_title=False,\n",
    "                               show_mu=False, show_acq_func=True,\n",
    "                               show_observations=False,\n",
    "                               show_next_point=True)\n",
    "    ax.set_ylabel(\"\")\n",
    "    ax.set_xlabel(\"\")\n",
    "\n",
    "plt.show()"
   ]
  }
 ],
 "metadata": {
  "kernelspec": {
   "display_name": "Python 3",
   "language": "python",
   "name": "python3"
  },
  "language_info": {
   "codemirror_mode": {
    "name": "ipython",
    "version": 3
   },
   "file_extension": ".py",
   "mimetype": "text/x-python",
   "name": "python",
   "nbconvert_exporter": "python",
   "pygments_lexer": "ipython3",
   "version": "3.7.7"
  }
 },
 "nbformat": 4,
 "nbformat_minor": 5
}
