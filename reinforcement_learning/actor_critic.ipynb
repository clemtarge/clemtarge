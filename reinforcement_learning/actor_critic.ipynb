{
 "cells": [
  {
   "cell_type": "markdown",
   "metadata": {},
   "source": [
    "https://www.tensorflow.org/tutorials/reinforcement_learning/actor_critic  \n",
    "https://medium.com/@asteinbach/actor-critic-using-deep-rl-continuous-mountain-car-in-tensorflow-4c1fb2110f7c\n",
    "\n",
    "# Actor-Critic"
   ]
  },
  {
   "cell_type": "code",
   "execution_count": 1,
   "metadata": {
    "id": "tT4N3qYviUJr"
   },
   "outputs": [],
   "source": [
    "%load_ext autoreload\n",
    "%autoreload 2\n",
    "import warnings\n",
    "warnings.filterwarnings('ignore')\n",
    "\n",
    "import collections\n",
    "import tqdm\n",
    "import time\n",
    "import matplotlib.pyplot as plt\n",
    "\n",
    "## uncomment one of the following lines to use tensorflow or pytorch\n",
    "from a2c_tf import *\n",
    "# from a2c_torch import *"
   ]
  },
  {
   "cell_type": "markdown",
   "metadata": {
    "id": "p62G8M_viUJp"
   },
   "source": [
    "## Playing with discrete actions"
   ]
  },
  {
   "cell_type": "code",
   "execution_count": 2,
   "metadata": {
    "id": "tT4N3qYviUJr"
   },
   "outputs": [],
   "source": [
    "env = gym.make(\"CartPole-v1\")\n",
    "a2c = A2CDiscrete(env=env,\n",
    "                  n_actions=2,\n",
    "                  reward_type=\"int32\",\n",
    "                  gamma=0.95)"
   ]
  },
  {
   "cell_type": "markdown",
   "metadata": {},
   "source": [
    "## Playing with continuous actions"
   ]
  },
  {
   "cell_type": "code",
   "execution_count": 3,
   "metadata": {
    "id": "tT4N3qYviUJr"
   },
   "outputs": [],
   "source": [
    "env = gym.make('MountainCarContinuous-v0')\n",
    "a2c = A2CContinuous(env=env,\n",
    "                    n_actions=1,\n",
    "                    reward_type=\"float32\",\n",
    "                    gamma=0.95)"
   ]
  },
  {
   "cell_type": "markdown",
   "metadata": {},
   "source": [
    "## Train the agent"
   ]
  },
  {
   "cell_type": "code",
   "execution_count": 4,
   "metadata": {
    "id": "kbmBxnzLiUJx",
    "scrolled": true
   },
   "outputs": [
    {
     "name": "stderr",
     "output_type": "stream",
     "text": [
      "Episode 499: 100%|██████████| 500/500 [01:49<00:00,  4.56it/s, episode_reward=-50, running_reward=-38.9]  "
     ]
    },
    {
     "name": "stdout",
     "output_type": "stream",
     "text": [
      "\n",
      "Solved at episode 499: average reward: -38.92!\n",
      "CPU times: user 3min 7s, sys: 9.62 s, total: 3min 17s\n",
      "Wall time: 1min 49s\n"
     ]
    },
    {
     "name": "stderr",
     "output_type": "stream",
     "text": [
      "\n"
     ]
    }
   ],
   "source": [
    "%%time\n",
    "\n",
    "min_episodes_criterion = 10\n",
    "max_episodes = 500\n",
    "max_steps_per_episode = 500\n",
    "\n",
    "# consecutive trials\n",
    "running_reward = 0\n",
    "rewards = []\n",
    "\n",
    "# Keep last episodes reward\n",
    "episodes_reward: collections.deque = collections.deque(maxlen=min_episodes_criterion)\n",
    "\n",
    "with tqdm.trange(max_episodes) as t:\n",
    "    for i in t:\n",
    "        episode_reward = float(a2c.train_step(env.reset()[0], max_steps_per_episode))\n",
    "\n",
    "        episodes_reward.append(episode_reward)\n",
    "        running_reward = np.mean(episodes_reward)\n",
    "        rewards.append(episode_reward)\n",
    "\n",
    "        t.set_description(f'Episode {i}')\n",
    "        t.set_postfix(episode_reward=episode_reward, running_reward=running_reward)\n",
    "\n",
    "print(f'\\nSolved at episode {i}: average reward: {running_reward:.2f}!')"
   ]
  },
  {
   "cell_type": "markdown",
   "metadata": {},
   "source": [
    "## Plot rewards"
   ]
  },
  {
   "cell_type": "code",
   "execution_count": 5,
   "metadata": {},
   "outputs": [
    {
     "data": {
      "image/png": "[encoded data removed]",
      "text/plain": [
       "<Figure size 432x288 with 1 Axes>"
      ]
     },
     "metadata": {
      "needs_background": "light"
     },
     "output_type": "display_data"
    }
   ],
   "source": [
    "plt.plot(rewards);"
   ]
  },
  {
   "cell_type": "markdown",
   "metadata": {},
   "source": [
    "## Use agent"
   ]
  },
  {
   "cell_type": "code",
   "execution_count": 6,
   "metadata": {
    "id": "qbIMMkfmRHyC",
    "scrolled": true
   },
   "outputs": [],
   "source": [
    "# screen = a2c.env.render(mode='rgb_array')\n",
    "\n",
    "state = a2c.env.reset()[0]\n",
    "initial_state_shape = state.shape\n",
    "\n",
    "for i in range(max_steps_per_episode):\n",
    "    state = np.expand_dims(state, 0)\n",
    "    \n",
    "    if isinstance(a2c, A2CDiscrete):\n",
    "        action_probs, _ = a2c.model(state)\n",
    "        action = np.argmax(list(np.squeeze(action_probs)))\n",
    "    elif isinstance(a2c, A2CContinuous):\n",
    "        _, norm_dist, _ = a2c.model(state)\n",
    "        action = norm_dist.loc\n",
    "    \n",
    "    state, _, done, _, _ = a2c.env.step(action)\n",
    "    state = np.reshape(state, initial_state_shape)\n",
    "\n",
    "    # screen = a2c.env.render(mode='rgb_array')\n",
    "    # time.sleep(0.05)\n",
    "    if done:\n",
    "        break"
   ]
  }
 ],
 "metadata": {
  "colab": {
   "collapsed_sections": [
    "_jQ1tEQCxwRx"
   ],
   "name": "actor_critic.ipynb",
   "toc_visible": true
  },
  "kernelspec": {
   "display_name": "Python 3.8.5 ('modia')",
   "language": "python",
   "name": "python3"
  },
  "language_info": {
   "codemirror_mode": {
    "name": "ipython",
    "version": 3
   },
   "file_extension": ".py",
   "mimetype": "text/x-python",
   "name": "python",
   "nbconvert_exporter": "python",
   "pygments_lexer": "ipython3",
   "version": "3.8.5"
  },
  "vscode": {
   "interpreter": {
    "hash": "f18770d938c4b763edcfad4599d98b64769c7be6438d18bca133161f80938245"
   }
  }
 },
 "nbformat": 4,
 "nbformat_minor": 1
}
